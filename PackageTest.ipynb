{
 "cells": [
  {
   "cell_type": "markdown",
   "id": "aa07ac4e",
   "metadata": {},
   "source": [
    "**The conducted test corresponds to IBSI-1 phase 1 configuration C. Please consult the following file https://arxiv.org/pdf/1612.07003.pdf Table 5.1 for details, and the expected outcomes are outlined in the section 3.1.8.**"
   ]
  },
  {
   "cell_type": "markdown",
   "id": "7e573480",
   "metadata": {},
   "source": [
    "### Import the package"
   ]
  },
  {
   "cell_type": "code",
   "execution_count": 1,
   "id": "0f74dec6",
   "metadata": {},
   "outputs": [],
   "source": [
    "import os\n",
    "import sys\n",
    "\n",
    "# Add the package manually. Change path according to package location\n",
    "MODULE_DIR = os.path.dirname(os.path.abspath('sphericity/'))\n",
    "sys.path.append(os.path.dirname(MODULE_DIR))\n",
    "\n",
    "from copy import deepcopy\n",
    "from pathlib import Path\n",
    "\n",
    "import sphericity"
   ]
  },
  {
   "cell_type": "markdown",
   "id": "0bc2b594",
   "metadata": {},
   "source": [
    "### Initialization (data and parameters)"
   ]
  },
  {
   "cell_type": "code",
   "execution_count": 2,
   "id": "e9dc74d4",
   "metadata": {},
   "outputs": [],
   "source": [
    "path_nifti_mask = Path.cwd() / \"test_data\" / \"ct_mask.nii.gz\"\n",
    "voxel_dim = [2,2,2]\n",
    "roi_interp = \"linear\"\n",
    "roi_pv = 0.5"
   ]
  },
  {
   "cell_type": "markdown",
   "id": "da76a15c",
   "metadata": {},
   "source": [
    "### Visualize mask\n",
    "#### Central slice"
   ]
  },
  {
   "cell_type": "code",
   "execution_count": 3,
   "id": "af93a5f4",
   "metadata": {},
   "outputs": [
    {
     "data": {
      "image/png": "[encoded data removed]",
      "text/plain": [
       "<Figure size 640x480 with 1 Axes>"
      ]
     },
     "metadata": {},
     "output_type": "display_data"
    }
   ],
   "source": [
    "import matplotlib.pyplot as plt\n",
    "import nibabel as nib\n",
    "\n",
    "mask = nib.load(path_nifti_mask).get_fdata()\n",
    "plt.imshow(mask[:,:,mask.shape[2]//2], cmap='gray')\n",
    "plt.show()"
   ]
  },
  {
   "cell_type": "markdown",
   "id": "8bb911e5",
   "metadata": {},
   "source": [
    "### Extract Sphericity feature"
   ]
  },
  {
   "cell_type": "code",
   "execution_count": 4,
   "id": "f580524c",
   "metadata": {},
   "outputs": [
    {
     "data": {
      "text/plain": [
       "0.7231861665569087"
      ]
     },
     "execution_count": 4,
     "metadata": {},
     "output_type": "execute_result"
    }
   ],
   "source": [
    "sphericity.extract(\n",
    "    path_nifti_mask=path_nifti_mask,\n",
    "    voxel_dim=voxel_dim,\n",
    "    roi_interp=roi_interp,\n",
    "    roi_pv=roi_pv,\n",
    ")"
   ]
  }
 ],
 "metadata": {
  "kernelspec": {
   "display_name": "sphericity",
   "language": "python",
   "name": "sphericity"
  },
  "language_info": {
   "codemirror_mode": {
    "name": "ipython",
    "version": 3
   },
   "file_extension": ".py",
   "mimetype": "text/x-python",
   "name": "python",
   "nbconvert_exporter": "python",
   "pygments_lexer": "ipython3",
   "version": "3.9.18"
  }
 },
 "nbformat": 4,
 "nbformat_minor": 5
}
